{
 "cells": [
  {
   "cell_type": "code",
   "execution_count": 19,
   "metadata": {},
   "outputs": [],
   "source": [
    "from datasets import load_from_disk"
   ]
  },
  {
   "cell_type": "code",
   "execution_count": 25,
   "metadata": {},
   "outputs": [
    {
     "data": {
      "application/vnd.jupyter.widget-view+json": {
       "model_id": "7896bfd7bf9947fdac95a25dfc06228b",
       "version_major": 2,
       "version_minor": 0
      },
      "text/plain": [
       "Downloading data files:   0%|          | 0/1 [00:00<?, ?it/s]"
      ]
     },
     "metadata": {},
     "output_type": "display_data"
    },
    {
     "data": {
      "application/vnd.jupyter.widget-view+json": {
       "model_id": "3870a3b05b7b4361b1537303a99adcee",
       "version_major": 2,
       "version_minor": 0
      },
      "text/plain": [
       "Extracting data files:   0%|          | 0/1 [00:00<?, ?it/s]"
      ]
     },
     "metadata": {},
     "output_type": "display_data"
    },
    {
     "data": {
      "application/vnd.jupyter.widget-view+json": {
       "model_id": "238db8ac193a43e89f0a46592204090b",
       "version_major": 2,
       "version_minor": 0
      },
      "text/plain": [
       "Generating train split: 0 examples [00:00, ? examples/s]"
      ]
     },
     "metadata": {},
     "output_type": "display_data"
    },
    {
     "data": {
      "application/vnd.jupyter.widget-view+json": {
       "model_id": "dc132f9463d34c919ff8cf7e496a58df",
       "version_major": 2,
       "version_minor": 0
      },
      "text/plain": [
       "Saving the dataset (0/1 shards):   0%|          | 0/20000 [00:00<?, ? examples/s]"
      ]
     },
     "metadata": {},
     "output_type": "display_data"
    }
   ],
   "source": [
    "from datasets import load_dataset\n",
    "dset = load_dataset('camel-ai/biology')\n",
    "dset.save_to_disk('../data/camel-ai/biology')"
   ]
  },
  {
   "cell_type": "code",
   "execution_count": 32,
   "metadata": {},
   "outputs": [],
   "source": [
    "path = '../data/camel-ai/biology'\n",
    "ds = load_from_disk(path)"
   ]
  },
  {
   "cell_type": "code",
   "execution_count": 35,
   "metadata": {},
   "outputs": [
    {
     "data": {
      "text/plain": [
       "{'role_1': 'Biologist_RoleType.ASSISTANT',\n",
       " 'topic;': 'Taxonomy',\n",
       " 'sub_topic': 'Identification of new species',\n",
       " 'message_1': 'What are the common techniques used in identifying a new species, and how can scientists accurately categorize it within the existing taxonomy system?',\n",
       " 'message_2': \"Identifying a new species and categorizing it within the existing taxonomy system involves several common techniques. These techniques can be broadly classified into morphological, molecular, and ecological approaches. Here's an overview of these techniques:\\n\\n1. Morphological analysis: This is the traditional method of identifying a new species based on its physical characteristics. Scientists examine the external and internal features of an organism, such as its size, shape, color, and structure. They also study the anatomy and physiology of the organism, including its skeletal, muscular, and reproductive systems. By comparing these features with those of known species, scientists can determine if the organism represents a new species.\\n\\n2. Molecular analysis: With advances in molecular biology, scientists can now use genetic information to identify and classify new species. This involves analyzing the DNA or RNA sequences of the organism and comparing them with the sequences of known species. Techniques such as DNA barcoding, which compares a short, standardized region of the genome, can help determine if the organism is a new species. Additionally, phylogenetic analysis can be used to understand the evolutionary relationships between the new species and other known species, helping to place it within the existing taxonomy system.\\n\\n3. Ecological analysis: Studying the ecological niche of an organism can also provide valuable information for species identification and classification. This involves examining the organism's habitat, its interactions with other species, and its role in the ecosystem. By understanding the ecological context of the new species, scientists can better determine its taxonomic position and how it relates to other known species.\\n\\n4. Behavioral analysis: Observing the behavior of an organism can also help in identifying a new species. This includes studying its feeding habits, mating rituals, and social interactions. Behavioral differences between closely related species can sometimes be more apparent than morphological or molecular differences.\\n\\n5. Biogeography: The geographical distribution of an organism can provide clues about its evolutionary history and help in its classification. Studying the biogeography of a new species can reveal patterns of speciation and help determine its taxonomic position.\\n\\nOnce a new species has been identified using these techniques, scientists can accurately categorize it within the existing taxonomy system by following the principles of biological classification. This involves placing the new species within a hierarchical structure of taxonomic ranks, such as kingdom, phylum, class, order, family, genus, and species. The new species is then given a scientific name, usually consisting of a genus name and a species epithet, following the rules of binomial nomenclature.\\n\\nIn conclusion, identifying a new species and categorizing it within the existing taxonomy system involves a combination of morphological, molecular, ecological, behavioral, and biogeographical analyses. By using these techniques, scientists can accurately classify the new species and better understand its evolutionary relationships with other organisms.\"}"
      ]
     },
     "execution_count": 35,
     "metadata": {},
     "output_type": "execute_result"
    }
   ],
   "source": [
    "ds['train'][0]"
   ]
  },
  {
   "cell_type": "code",
   "execution_count": null,
   "metadata": {},
   "outputs": [],
   "source": []
  }
 ],
 "metadata": {
  "kernelspec": {
   "display_name": "Python 3",
   "language": "python",
   "name": "python3"
  },
  "language_info": {
   "codemirror_mode": {
    "name": "ipython",
    "version": 3
   },
   "file_extension": ".py",
   "mimetype": "text/x-python",
   "name": "python",
   "nbconvert_exporter": "python",
   "pygments_lexer": "ipython3",
   "version": "3.11.6"
  }
 },
 "nbformat": 4,
 "nbformat_minor": 2
}
