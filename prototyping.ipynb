{
 "cells": [
  {
   "cell_type": "code",
   "execution_count": 1,
   "metadata": {},
   "outputs": [
    {
     "name": "stderr",
     "output_type": "stream",
     "text": [
      "c:\\Users\\dlaptev\\AppData\\Local\\Programs\\Python\\Python311\\Lib\\site-packages\\transformers\\utils\\generic.py:441: UserWarning: torch.utils._pytree._register_pytree_node is deprecated. Please use torch.utils._pytree.register_pytree_node instead.\n",
      "  _torch_pytree._register_pytree_node(\n"
     ]
    }
   ],
   "source": [
    "import torch\n",
    "from transformers import AutoTokenizer\n",
    "tokenizer = AutoTokenizer.from_pretrained('bert-base-uncased')"
   ]
  },
  {
   "cell_type": "code",
   "execution_count": 2,
   "metadata": {},
   "outputs": [],
   "source": [
    "from modules.encoder import Encoder\n",
    "enc = Encoder(1, tokenizer.vocab_size, 4, 2, dropout=0.1)"
   ]
  },
  {
   "cell_type": "code",
   "execution_count": 7,
   "metadata": {},
   "outputs": [],
   "source": [
    "texts = [\n",
    "    'Hello, ML&DS Community!',\n",
    "    'Hello, Sanya!'\n",
    "]\n",
    "\n",
    "tokenized = tokenizer(texts, padding='max_length', max_length=8, truncation=True)\n",
    "tokens = torch.tensor(tokenized['input_ids'])\n"
   ]
  },
  {
   "cell_type": "code",
   "execution_count": 8,
   "metadata": {},
   "outputs": [
    {
     "data": {
      "text/plain": [
       "tensor([[[-1.2117,  1.2371, -0.7202,  0.6947],\n",
       "         [ 0.5334,  1.1733, -0.1891, -1.5176],\n",
       "         [ 0.4326, -1.0453,  1.4316, -0.8189],\n",
       "         [ 0.7642, -0.5555,  1.1377, -1.3464],\n",
       "         [ 0.7931, -0.2159,  0.9679, -1.5452],\n",
       "         [-1.0503,  1.1669,  0.8159, -0.9325],\n",
       "         [-1.0983, -0.6712,  0.2612,  1.5083],\n",
       "         [ 0.9103,  0.2229,  0.5468, -1.6801]],\n",
       "\n",
       "        [[-1.2519,  1.5155,  0.0929, -0.3565],\n",
       "         [ 0.4635,  1.2536, -0.2504, -1.4666],\n",
       "         [ 0.0646, -1.4857,  1.3346,  0.0866],\n",
       "         [ 0.4447, -1.2131,  1.3930, -0.6246],\n",
       "         [ 0.4044,  1.1975, -0.0527, -1.5491],\n",
       "         [-1.5701,  0.2962,  1.2004,  0.0734],\n",
       "         [-0.2128, -1.2280, -0.1189,  1.5597],\n",
       "         [-1.2336, -0.3636,  0.0670,  1.5301]]],\n",
       "       grad_fn=<NativeLayerNormBackward0>)"
      ]
     },
     "execution_count": 8,
     "metadata": {},
     "output_type": "execute_result"
    }
   ],
   "source": [
    "enc(tokens)"
   ]
  },
  {
   "cell_type": "code",
   "execution_count": null,
   "metadata": {},
   "outputs": [],
   "source": []
  }
 ],
 "metadata": {
  "kernelspec": {
   "display_name": "Python 3",
   "language": "python",
   "name": "python3"
  },
  "language_info": {
   "codemirror_mode": {
    "name": "ipython",
    "version": 3
   },
   "file_extension": ".py",
   "mimetype": "text/x-python",
   "name": "python",
   "nbconvert_exporter": "python",
   "pygments_lexer": "ipython3",
   "version": "3.11.6"
  }
 },
 "nbformat": 4,
 "nbformat_minor": 2
}
