{
 "cells": [
  {
   "cell_type": "code",
   "execution_count": 1,
   "metadata": {},
   "outputs": [
    {
     "name": "stderr",
     "output_type": "stream",
     "text": [
      "c:\\Users\\dlaptev\\AppData\\Local\\Programs\\Python\\Python311\\Lib\\site-packages\\transformers\\utils\\generic.py:441: UserWarning: torch.utils._pytree._register_pytree_node is deprecated. Please use torch.utils._pytree.register_pytree_node instead.\n",
      "  _torch_pytree._register_pytree_node(\n",
      "c:\\Users\\dlaptev\\AppData\\Local\\Programs\\Python\\Python311\\Lib\\site-packages\\transformers\\utils\\generic.py:309: UserWarning: torch.utils._pytree._register_pytree_node is deprecated. Please use torch.utils._pytree.register_pytree_node instead.\n",
      "  _torch_pytree._register_pytree_node(\n"
     ]
    }
   ],
   "source": [
    "import torch\n",
    "import torch.nn as nn\n",
    "\n",
    "import math\n",
    "\n",
    "from transformers import AutoTokenizer, AutoModel, BertModel\n",
    "\n",
    "model = 'prajjwal1/bert-tiny'\n",
    "tokenizer = AutoTokenizer.from_pretrained(model)\n",
    "transformer = AutoModel.from_pretrained(model)"
   ]
  },
  {
   "cell_type": "code",
   "execution_count": 2,
   "metadata": {},
   "outputs": [
    {
     "data": {
      "text/plain": [
       "tensor([[[-0.9799,  1.5573, -0.7824,  ...,  1.0282, -0.6406,  1.6593],\n",
       "         [ 0.4946,  0.4179, -0.1654,  ...,  1.4032, -1.9009,  2.2405],\n",
       "         [ 1.3037, -2.3841,  1.2356,  ...,  1.1690, -2.3793,  1.0813],\n",
       "         ...,\n",
       "         [-1.3622,  1.2532, -0.0000,  ..., -0.2886,  0.1454, -0.1376],\n",
       "         [ 0.6164,  1.1838, -2.5238,  ..., -0.2489, -0.2816, -0.6825],\n",
       "         [ 1.8650,  0.1350, -0.0000,  ..., -0.2105, -0.9392, -1.3554]]],\n",
       "       grad_fn=<MulBackward0>)"
      ]
     },
     "execution_count": 2,
     "metadata": {},
     "output_type": "execute_result"
    }
   ],
   "source": [
    "from modules import Encoder\n",
    "encoder = Encoder(tokenizer.vocab_size)\n",
    "\n",
    "text = 'Hello, ML&DS Community!'\n",
    "tokenized = tokenizer(text, padding='max_length', max_length=encoder.context, truncation=True, return_tensors='pt')\n",
    "\n",
    "encoder(tokenized['input_ids'])"
   ]
  },
  {
   "cell_type": "code",
   "execution_count": null,
   "metadata": {},
   "outputs": [],
   "source": []
  }
 ],
 "metadata": {
  "kernelspec": {
   "display_name": "Python 3",
   "language": "python",
   "name": "python3"
  },
  "language_info": {
   "codemirror_mode": {
    "name": "ipython",
    "version": 3
   },
   "file_extension": ".py",
   "mimetype": "text/x-python",
   "name": "python",
   "nbconvert_exporter": "python",
   "pygments_lexer": "ipython3",
   "version": "3.11.6"
  }
 },
 "nbformat": 4,
 "nbformat_minor": 2
}
